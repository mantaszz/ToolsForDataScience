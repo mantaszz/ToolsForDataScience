{
 "cells": [
  {
   "cell_type": "markdown",
   "id": "b677d864-6e4b-4742-ac7c-4d65a6792240",
   "metadata": {},
   "source": [
    "# Data Science Tools and Ecosystem"
   ]
  },
  {
   "cell_type": "markdown",
   "id": "8ba31055-76f1-48f5-ab31-9498638f235c",
   "metadata": {},
   "source": [
    "In this notebook, Data Science Tools and Ecosystem are summarized."
   ]
  },
  {
   "cell_type": "markdown",
   "id": "ef91f2c9-390b-4666-940f-d69d00d9b044",
   "metadata": {},
   "source": [
    "__Objectives:__\n",
    "* List popular languages for Data Science\n",
    "* Create a Jupyter notebook\n",
    "* List commonly used libraries by Data Scientists\n",
    "* Add and multiply integers"
   ]
  },
  {
   "cell_type": "markdown",
   "id": "8b3e60c2-2938-4788-bd60-9953db9cb722",
   "metadata": {},
   "source": [
    "## Author\n",
    "Mantas"
   ]
  },
  {
   "cell_type": "markdown",
   "id": "af2ff919-f5e4-4056-9ac0-b82346f10f07",
   "metadata": {},
   "source": [
    "Some of the popular languages that Data Scientists use are:\n",
    "1. Python\n",
    "2. R\n",
    "3. Java\n",
    "4. SQL"
   ]
  },
  {
   "cell_type": "markdown",
   "id": "e610ead6-1994-4c4a-99bc-13bcdfb3c18d",
   "metadata": {},
   "source": [
    "Some of the commonly used libraries used by Data Scientists include:\n",
    "\n",
    "1. Numpy\n",
    "2. ggplot\n",
    "3. Seaborn\n",
    "4. Pandas\n"
   ]
  },
  {
   "cell_type": "markdown",
   "id": "20d59130-128d-499d-ac0b-16b958802cdd",
   "metadata": {},
   "source": [
    "|Data Science Tools|\n",
    "| --- |\n",
    "|Watson Studio|\n",
    "|Spyder|\n",
    "|Visual Studio|"
   ]
  },
  {
   "cell_type": "markdown",
   "id": "dd738b53-4a0c-47ae-b97b-971046b74a19",
   "metadata": {},
   "source": [
    "### Below are a few examples of evaluating arithmetic expressions in Python"
   ]
  },
  {
   "cell_type": "code",
   "execution_count": 1,
   "id": "352c8d86-0b55-4e55-934e-3c49607d7ee0",
   "metadata": {},
   "outputs": [
    {
     "data": {
      "text/plain": [
       "17"
      ]
     },
     "execution_count": 1,
     "metadata": {},
     "output_type": "execute_result"
    }
   ],
   "source": [
    "# This a simple arithmetic expression to mutiply then add integers\n",
    "(3*4)+5"
   ]
  },
  {
   "cell_type": "code",
   "execution_count": 2,
   "id": "7816d172-1701-4aee-9a4f-7e6a366fc5f6",
   "metadata": {},
   "outputs": [
    {
     "data": {
      "text/plain": [
       "3.3333333333333335"
      ]
     },
     "execution_count": 2,
     "metadata": {},
     "output_type": "execute_result"
    }
   ],
   "source": [
    "# This will convert 200 minutes to hours by diving by 60\n",
    "200/60"
   ]
  },
  {
   "cell_type": "code",
   "execution_count": null,
   "id": "c9aa1b47-a355-40d6-bed8-fc39ab5ce647",
   "metadata": {},
   "outputs": [],
   "source": []
  }
 ],
 "metadata": {
  "kernelspec": {
   "display_name": "Python",
   "language": "python",
   "name": "conda-env-python-py"
  },
  "language_info": {
   "codemirror_mode": {
    "name": "ipython",
    "version": 3
   },
   "file_extension": ".py",
   "mimetype": "text/x-python",
   "name": "python",
   "nbconvert_exporter": "python",
   "pygments_lexer": "ipython3",
   "version": "3.7.12"
  }
 },
 "nbformat": 4,
 "nbformat_minor": 5
}
